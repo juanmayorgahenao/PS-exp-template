{
 "cells": [
  {
   "cell_type": "markdown",
   "id": "7c8c560e-d41a-49a9-965f-220607468e42",
   "metadata": {
    "tags": []
   },
   "source": [
    "# 02. Using Harmony to Subset SWOT Simulated Data\n",
    "### **Objectives of this Jupyter notebook**\n",
    "1. Use a Harmony request to obtain a temporal and spatial subset of L2 altimetric data in the cloud.\n",
    "2. Construct and submit the Harmony request by using the harmony-py library.\n",
    "3. Open the data in xarray and make a simple plot to visually confirm the download and subset.\n",
    "\n",
    "### **Why are we using Harmony here?** https://harmony.earthdata.nasa.gov/\n",
    "1. The advantage of reducing data size for access/download, especially for long global time series.\n",
    "2. Harmony allows us to access data from different NASA DAACs in a consistent way (not DAAC-specific).\n",
    "3. A number of different services like spatial subset, variable subset, etc., can all be called from Harmony\n",
    "\n",
    "### **Datasets of interest in this notebook**\n",
    "- Nadir GLORYS CalVal: https://podaac.jpl.nasa.gov/dataset/SWOT_SIMULATED_L2_NADIR_SSH_GLORYS_CALVAL_V1\n",
    "- Nadir GLORYS Science: https://podaac.jpl.nasa.gov/dataset/SWOT_SIMULATED_L2_NADIR_SSH_GLORYS_SCIENCE_V1\n",
    "- Nadir ECCO CalVal: https://podaac.jpl.nasa.gov/dataset/SWOT_SIMULATED_L2_NADIR_SSH_ECCO_LLC4320_CALVAL_V1\n",
    "- Nadir ECCO Science: https://podaac.jpl.nasa.gov/dataset/SWOT_SIMULATED_L2_NADIR_SSH_ECCO_LLC4320_SCIENCE_V1\n",
    "- KaRIn GLORYS CalVal: https://podaac.jpl.nasa.gov/dataset/SWOT_SIMULATED_L2_KARIN_SSH_GLORYS_CALVAL_V1\n",
    "- KaRIn GLORYS Science: https://podaac.jpl.nasa.gov/dataset/SWOT_SIMULATED_L2_KARIN_SSH_GLORYS_SCIENCE_V1\n",
    "- KaRIn ECCO CalVal: https://podaac.jpl.nasa.gov/dataset/SWOT_SIMULATED_L2_KARIN_SSH_ECCO_LLC4320_CALVAL_V1\n",
    "- KaRIn ECCO Science: https://podaac.jpl.nasa.gov/dataset/SWOT_SIMULATED_L2_KARIN_SSH_ECCO_LLC4320_SCIENCE_V1"
   ]
  },
  {
   "cell_type": "markdown",
   "id": "a0387625-8bbe-48af-8636-02dd83d15a77",
   "metadata": {},
   "source": [
    "#### **Import libraries**\n",
    "Note: Install harmony-py to your Python environment before you can import it for the first time. See https://github.com/nasa/harmony-py (For the SWOT Ocean Cloud Wokrshop March 2022, the needed libraries have been pre-loaded and installed in the cloud compute environment.)\n"
   ]
  },
  {
   "cell_type": "code",
   "execution_count": null,
   "id": "dfdd7f20-8c99-4efb-88c2-812a5d14c526",
   "metadata": {},
   "outputs": [],
   "source": [
    "import xarray as xr\n",
    "import numpy as np\n",
    "from IPython.display import display, JSON\n",
    "from datetime import datetime, timedelta, time\n",
    "import os \n",
    "\n",
    "from harmony import BBox, Client, Collection, Request, Environment, LinkType \n",
    "\n",
    "import matplotlib.pyplot as plt\n",
    "import cartopy.crs as ccrs\n",
    "\n",
    "%matplotlib inline"
   ]
  },
  {
   "cell_type": "markdown",
   "id": "6a145ea4-aea6-4857-b9bc-f3c027769a0b",
   "metadata": {},
   "source": [
    "#### **Let's start up the client from the harmony-py library.**"
   ]
  },
  {
   "cell_type": "code",
   "execution_count": null,
   "id": "a42e431d-8acd-485d-8026-df425bb94dab",
   "metadata": {
    "tags": []
   },
   "outputs": [],
   "source": [
    "# Start the Harmony Client.\n",
    "\n",
    "harmony_client = Client(env=Environment.PROD)\n",
    "\n",
    "# \"PROD\" stands for production. This is the environment for users."
   ]
  },
  {
   "cell_type": "markdown",
   "id": "23ae0bfa-d1b7-4185-8cf8-cb53803a4dc2",
   "metadata": {
    "tags": []
   },
   "source": [
    "## **Temporal and spatial subset using a bounding box around CA Crossover region**\n",
    "1. Define the **collection** of interest by calling Collection(id = YourCollection), where YourCollection is a collection short name or concept-id. There are a number of ways to get the collection `shortname`; using [Earthdata Search](https://search.earthdata.nasa.gov/search) is one way - see pre-workshop [tutorial](https://podaac.github.io/2022-SWOT-Ocean-Cloud-Workshop/prerequisites/01_Earthdata_Search.html).\n",
    "2. Set **time bounds**.\n",
    "3. Set **spatial bounding box**.\n",
    "4. There are also other options such as variables, granules, and concatenation."
   ]
  },
  {
   "cell_type": "code",
   "execution_count": null,
   "id": "1d917d15-89a5-43a3-bbc1-c1d0d5fb2c0e",
   "metadata": {
    "tags": []
   },
   "outputs": [],
   "source": [
    "collection = Collection(id='SWOT_SIMULATED_L2_NADIR_SSH_GLORYS_SCIENCE_V1')\n",
    "\n",
    "start_day = datetime(2015,4,15,0,0,0)\n",
    "end_day = datetime(2015,4,20,0,0,0)\n",
    "\n",
    "request = Request(\n",
    "    collection=collection,\n",
    "    temporal={\n",
    "        'start': start_day,\n",
    "        'stop': end_day\n",
    "    },\n",
    "    spatial=BBox(-140, 20, -100, 50), # [20-50N], [140W-100W] CA Current crossover point (35N,125W)\n",
    "    # variables=[],\n",
    "    # granule_id=granuleIDs,\n",
    "    # concatenate = True,\n",
    ")\n",
    "\n",
    "request.is_valid()"
   ]
  },
  {
   "cell_type": "code",
   "execution_count": null,
   "id": "9ee57a7c-8667-4e86-a3e2-e0ed42625618",
   "metadata": {
    "tags": []
   },
   "outputs": [],
   "source": [
    "print(harmony_client.request_as_curl(request))\n",
    "job_id = harmony_client.submit(request)\n",
    "print(f'Job ID: {job_id}') # This job id is shareable:show how to do this"
   ]
  },
  {
   "cell_type": "markdown",
   "id": "7fcfb037-1a3c-4dd0-9292-216ab6a94b4f",
   "metadata": {},
   "source": [
    "#### **View the job status**\n",
    "A Harmony request is limited to 200 granules. The limit is there to prevent users from accidentally make huge requests."
   ]
  },
  {
   "cell_type": "code",
   "execution_count": null,
   "id": "60bdcdee-65d2-4ddc-a542-d7e50f211b49",
   "metadata": {
    "tags": []
   },
   "outputs": [],
   "source": [
    "harmony_client.status(job_id) "
   ]
  },
  {
   "cell_type": "code",
   "execution_count": null,
   "id": "cd98a529-2d1b-40d4-aa9d-cd5a5cdebeef",
   "metadata": {},
   "outputs": [],
   "source": [
    "harmony_client.wait_for_processing(job_id, show_progress=True)"
   ]
  },
  {
   "cell_type": "markdown",
   "id": "b9e6ba5d-c806-4df0-8112-af66f905fc26",
   "metadata": {
    "tags": []
   },
   "source": [
    "#### **Download subsetted files**\n",
    "\n",
    "Filenames that end with \"subsetted.nc4\" have been subsetted. \n",
    "\n",
    "The other filenames (that are un-altered) indicate that these were rounded up as relevant files during Harmony's search, but do not contain data in the actual region of interest, so the files downloaded here are empty."
   ]
  },
  {
   "cell_type": "code",
   "execution_count": null,
   "id": "732f7346-3e2f-40db-bb6b-8136f3f2425d",
   "metadata": {},
   "outputs": [],
   "source": [
    "# create a new folder to put the subsetted data in\n",
    "os.makedirs(\"swot_ocean_basic_subset\",exist_ok = True)"
   ]
  },
  {
   "cell_type": "code",
   "execution_count": null,
   "id": "72309e63-5b09-474b-ad3a-221dd5622c60",
   "metadata": {
    "tags": []
   },
   "outputs": [],
   "source": [
    "futures = harmony_client.download_all(job_id, directory='./swot_ocean_basic_subset', overwrite=True)\n",
    "file_names = [f.result() for f in futures]\n",
    "sorted(file_names)"
   ]
  },
  {
   "cell_type": "code",
   "execution_count": null,
   "id": "f2006a11-bfbb-4789-90ff-b8c5e4346425",
   "metadata": {
    "tags": []
   },
   "outputs": [],
   "source": [
    "from os import listdir\n",
    "from os.path import isfile, join\n",
    "data_files = [ f for f in file_names if \"subsetted\" in f]\n",
    "data_files"
   ]
  },
  {
   "cell_type": "markdown",
   "id": "0d9bbceb-d9ab-4481-a199-94bb96276152",
   "metadata": {},
   "source": [
    "#### **Take a look at the subset data**\n",
    "Note: xarray is a little clunky with variables in groups."
   ]
  },
  {
   "cell_type": "code",
   "execution_count": null,
   "id": "b46c5c60-0a93-4f40-84dc-f531eb8a4e31",
   "metadata": {},
   "outputs": [],
   "source": [
    "ds = xr.open_mfdataset(sorted(data_files),combine='nested',concat_dim='time',group='data_01')\n",
    "ds"
   ]
  },
  {
   "cell_type": "code",
   "execution_count": null,
   "id": "9d853d99-4bb3-4f44-bf9d-afdeb561e5c2",
   "metadata": {
    "tags": []
   },
   "outputs": [],
   "source": [
    "fig = plt.figure(figsize=[11,7]) \n",
    "ax = plt.axes(projection=ccrs.PlateCarree())\n",
    "ax.coastlines()\n",
    "ax.set_extent([-150, -90, 10, 60])\n",
    "plt.scatter(ds.longitude, ds.latitude, lw=1, c=ds.depth_or_elevation)\n",
    "plt.colorbar(label='Depth or elevation (m)')\n",
    "plt.clim(-4000,4000)\n",
    "plt.show()\n",
    "# ds.plot.scatter( y=\"latitude\",\n",
    "#                  x=\"longitude\", \n",
    "#                  hue=\"depth_or_elevation\",\n",
    "#                  s=1,\n",
    "#                  vmin=-4000,\n",
    "#                  vmax=4000,\n",
    "#                  levels=9, \n",
    "#                  cmap=\"jet\",\n",
    "#                  aspect=2.5,\n",
    "#                  size=9, )"
   ]
  },
  {
   "cell_type": "markdown",
   "id": "962cf7a8-20fb-44eb-8813-d130a6bdbca9",
   "metadata": {},
   "source": [
    "### **On your own: Try subsetting by variable or granule IDs, or over a longer time period**"
   ]
  },
  {
   "cell_type": "code",
   "execution_count": null,
   "id": "a8097405-448e-48b0-b754-152cb6bd1bb4",
   "metadata": {},
   "outputs": [],
   "source": []
  }
 ],
 "metadata": {
  "kernelspec": {
   "display_name": "Python 3 (ipykernel)",
   "language": "python",
   "name": "python3"
  },
  "language_info": {
   "codemirror_mode": {
    "name": "ipython",
    "version": 3
   },
   "file_extension": ".py",
   "mimetype": "text/x-python",
   "name": "python",
   "nbconvert_exporter": "python",
   "pygments_lexer": "ipython3",
   "version": "3.9.10"
  }
 },
 "nbformat": 4,
 "nbformat_minor": 5
}
