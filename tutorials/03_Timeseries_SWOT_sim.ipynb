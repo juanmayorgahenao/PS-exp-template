{
 "cells": [
  {
   "cell_type": "markdown",
   "id": "7c8c560e-d41a-49a9-965f-220607468e42",
   "metadata": {
    "tags": []
   },
   "source": [
    "# 03. Build a Time Series of SWOT Simulated Data"
   ]
  },
  {
   "cell_type": "markdown",
   "id": "a0387625-8bbe-48af-8636-02dd83d15a77",
   "metadata": {},
   "source": [
    "#### **Import libraries**\n",
    "In additional to libraries from the first tutorial, also import libraries needed to submit CMR requests."
   ]
  },
  {
   "cell_type": "code",
   "execution_count": null,
   "id": "dfdd7f20-8c99-4efb-88c2-812a5d14c526",
   "metadata": {},
   "outputs": [],
   "source": [
    "import xarray as xr\n",
    "import numpy as np\n",
    "from IPython.display import display, JSON\n",
    "from datetime import datetime, timedelta, time\n",
    "import os\n",
    "\n",
    "# highlight the harmony-py library\n",
    "from harmony import BBox, Client, Collection, Request, Environment, LinkType \n",
    "\n",
    "import matplotlib.pyplot as plt\n",
    "import cartopy.crs as ccrs\n",
    "\n",
    "%matplotlib inline\n",
    "\n",
    "# Additional libraries compared to the first tutorial.\n",
    "from urllib import request\n",
    "import json\n",
    "import requests\n",
    "import sys\n",
    "import shutil\n",
    "from urllib.parse import urlencode"
   ]
  },
  {
   "cell_type": "markdown",
   "id": "5f6ef994-ebe1-411f-a114-db2bea729eaa",
   "metadata": {},
   "source": [
    "#### **Let's start up the client from the harmony-py library and define the CMR url.**"
   ]
  },
  {
   "cell_type": "code",
   "execution_count": null,
   "id": "a42e431d-8acd-485d-8026-df425bb94dab",
   "metadata": {
    "tags": []
   },
   "outputs": [],
   "source": [
    "harmony_client = Client(env=Environment.PROD)\n",
    "cmr_root = 'cmr.earthdata.nasa.gov'"
   ]
  },
  {
   "cell_type": "markdown",
   "id": "ed399670-ff20-44a9-883a-b30fed614974",
   "metadata": {
    "tags": []
   },
   "source": [
    "### **KaRIn CalVal**"
   ]
  },
  {
   "cell_type": "markdown",
   "id": "115f0a2a-121c-4342-8343-4f4bd3e139a1",
   "metadata": {},
   "source": [
    "#### **Search by cycle and pass using CMR**\n",
    "CMR Search: Number of item returned is limited to 10,000 (or 1 million if targeting collections)\n",
    "https://cmr.earthdata.nasa.gov/search/site/docs/search/api.html#paging-details"
   ]
  },
  {
   "cell_type": "code",
   "execution_count": null,
   "id": "c41a904c-e43b-417b-856d-e63b8b2fe74c",
   "metadata": {},
   "outputs": [],
   "source": [
    "provider = 'POCLOUD'\n",
    "short_name = 'SWOT_SIMULATED_L2_KARIN_SSH_GLORYS_CALVAL_V1'\n",
    "\n",
    "target_cycle = list(range(1,101))\n",
    "target_pass = [2, 17]\n",
    "page_size = 2000\n",
    "\n",
    "granuleIDs = []\n",
    "params_without_cycle = [\n",
    "    ('page_size', page_size),\n",
    "    ('sort_key', \"-start_date\"),\n",
    "    ('provider', provider),\n",
    "    ('ShortName', short_name),\n",
    "    #('collection_concept_id', ccid), \n",
    "    #('token', token),\n",
    "    #('cycle', targetcycle), # can only specify one cycle at a time when specifying passes \n",
    "    ('passes[0][pass]', target_pass[0]), \n",
    "    ('passes[1][pass]', target_pass[1]),\n",
    "]\n",
    "\n",
    "for v in target_cycle:\n",
    "    params = [(\"cycle[]\", v)]\n",
    "    params.extend(params_without_cycle)\n",
    "    # print(params)\n",
    "    query = urlencode(params)\n",
    "    cmr_url = f\"https://{cmr_root}/search/granules.umm_json?{query}\"\n",
    "    # print(cmr_url)\n",
    "    response = requests.get(cmr_url)\n",
    "    response_body = response.json()\n",
    "    \n",
    "    for itm in response_body['items']:\n",
    "        granuleIDs.append(itm['meta']['concept-id'])\n",
    "\n",
    "len(granuleIDs) # Note the 200-granule limit"
   ]
  },
  {
   "cell_type": "markdown",
   "id": "2f6f5ca0-b719-4858-8e10-2ce77a58de00",
   "metadata": {},
   "source": [
    "#### **Then perform a spatial subset and download using Harmony**\n",
    "On the back end, the subsetting part of Harmony is powered by L2SS-py"
   ]
  },
  {
   "cell_type": "code",
   "execution_count": null,
   "id": "4bc26680-f839-4196-9421-4b1b5f29a4a1",
   "metadata": {
    "tags": []
   },
   "outputs": [],
   "source": [
    "# collection = Collection(id=ccid)\n",
    "collection = Collection(id=short_name)\n",
    "\n",
    "# start_day = datetime(2015,4,15,0,0,0)\n",
    "# end_day = datetime(2015,4,17,0,0,0)\n",
    "\n",
    "request = Request(\n",
    "    collection=collection,\n",
    "    spatial=BBox(-140, 20, -100, 50), # [20-50N], [-140W, -100W] CA Current\n",
    "    #variables=[],\n",
    "    # temporal={\n",
    "    #     'start': start_day,\n",
    "    #     'stop': end_day # goal: try up to 21 days at least,\n",
    "    #},\n",
    "    granule_id=granuleIDs,\n",
    ")\n",
    "\n",
    "request.is_valid()"
   ]
  },
  {
   "cell_type": "code",
   "execution_count": null,
   "id": "0e3abdeb-92e9-472d-9595-21682d62655b",
   "metadata": {
    "tags": []
   },
   "outputs": [],
   "source": [
    "print(harmony_client.request_as_curl(request))\n",
    "job_id = harmony_client.submit(request)\n",
    "print(f'Job ID: {job_id}')"
   ]
  },
  {
   "cell_type": "code",
   "execution_count": null,
   "id": "1d71eeb4-8145-49fa-9d91-20320df74ee2",
   "metadata": {
    "tags": []
   },
   "outputs": [],
   "source": [
    "harmony_client.status(job_id)"
   ]
  },
  {
   "cell_type": "code",
   "execution_count": null,
   "id": "87d0515a-b181-4cf2-996e-fdb80948a32c",
   "metadata": {},
   "outputs": [],
   "source": [
    "# results = harmony_client.result_urls(job_id, link_type=LinkType.s3)\n",
    "# urls = list(results)\n",
    "# print(urls)"
   ]
  },
  {
   "cell_type": "code",
   "execution_count": null,
   "id": "43aa4086-41f9-4cfe-ac92-0f699ad027ed",
   "metadata": {},
   "outputs": [],
   "source": [
    "# create a new folder to put the subsetted data in\n",
    "os.makedirs(\"swot_ocean\",exist_ok = True)"
   ]
  },
  {
   "cell_type": "code",
   "execution_count": null,
   "id": "54f42f15-8440-4e3e-b9c0-04730bbfa325",
   "metadata": {
    "tags": []
   },
   "outputs": [],
   "source": [
    "futures = harmony_client.download_all(job_id, directory='./swot_ocean', overwrite=True)\n",
    "file_names = [f.result() for f in futures]\n",
    "sorted(file_names)"
   ]
  },
  {
   "cell_type": "code",
   "execution_count": null,
   "id": "687d7b6d-a654-4f93-b932-805cb7f91b86",
   "metadata": {},
   "outputs": [],
   "source": [
    "ds = xr.open_mfdataset(sorted(file_names),combine='nested',concat_dim='num_lines')\n",
    "ds"
   ]
  },
  {
   "cell_type": "code",
   "execution_count": null,
   "id": "1c0b01ac-01b0-40d0-a156-d71801a85bc2",
   "metadata": {
    "tags": []
   },
   "outputs": [],
   "source": [
    "# Plot only a pair of passes at a time\n",
    "i_time = np.arange(0,1725*2)+1725*90\n",
    "\n",
    "fig = plt.figure(figsize=[11,7]) \n",
    "ax = plt.axes(projection=ccrs.PlateCarree())\n",
    "ax.coastlines()\n",
    "ax.set_extent([-150, -90, 10, 60])\n",
    "plt.scatter(ds.longitude[i_time,:], ds.latitude[i_time,:], lw=1, c=ds.ssha_karin[i_time,:])\n",
    "plt.colorbar(label='SSHA (m)')\n",
    "plt.clim(-1,1)\n",
    "plt.show()"
   ]
  },
  {
   "cell_type": "code",
   "execution_count": null,
   "id": "a8097405-448e-48b0-b754-152cb6bd1bb4",
   "metadata": {},
   "outputs": [],
   "source": []
  }
 ],
 "metadata": {
  "kernelspec": {
   "display_name": "Python 3 (ipykernel)",
   "language": "python",
   "name": "python3"
  },
  "language_info": {
   "codemirror_mode": {
    "name": "ipython",
    "version": 3
   },
   "file_extension": ".py",
   "mimetype": "text/x-python",
   "name": "python",
   "nbconvert_exporter": "python",
   "pygments_lexer": "ipython3",
   "version": "3.9.10"
  }
 },
 "nbformat": 4,
 "nbformat_minor": 5
}
